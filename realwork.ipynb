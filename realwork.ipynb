{
  "nbformat": 4,
  "nbformat_minor": 0,
  "metadata": {
    "colab": {
      "provenance": [],
      "authorship_tag": "ABX9TyNCc90rbV1sKEN4WMqRyxbM",
      "include_colab_link": true
    },
    "kernelspec": {
      "name": "python3",
      "display_name": "Python 3"
    },
    "language_info": {
      "name": "python"
    }
  },
  "cells": [
    {
      "cell_type": "markdown",
      "metadata": {
        "id": "view-in-github",
        "colab_type": "text"
      },
      "source": [
        "<a href=\"https://colab.research.google.com/github/sylendra807/ml/blob/main/realwork.ipynb\" target=\"_parent\"><img src=\"https://colab.research.google.com/assets/colab-badge.svg\" alt=\"Open In Colab\"/></a>"
      ]
    },
    {
      "cell_type": "code",
      "execution_count": null,
      "metadata": {
        "id": "746iTr7Sy6zf"
      },
      "outputs": [],
      "source": [
        "import torch\n",
        "from torch import nn\n",
        "import matplotlib.pyplot as plt"
      ]
    },
    {
      "cell_type": "code",
      "source": [],
      "metadata": {
        "id": "KtR7nuriQt-o"
      },
      "execution_count": null,
      "outputs": []
    },
    {
      "cell_type": "code",
      "source": [
        "wt=0.7\n",
        "bias=0.3\n",
        "start =0\n",
        "end= 1\n",
        "step =0.02\n",
        "X=torch.arange(start,end,step).unsqueeze(dim=1)\n",
        "Y=wt*X+bias\n",
        "X[:10],Y[:10]"
      ],
      "metadata": {
        "colab": {
          "base_uri": "https://localhost:8080/"
        },
        "id": "CTg6wFKOz9w-",
        "outputId": "a5c6101d-2da9-48d4-8b10-57d4339b6289"
      },
      "execution_count": null,
      "outputs": [
        {
          "output_type": "execute_result",
          "data": {
            "text/plain": [
              "(tensor([[0.0000],\n",
              "         [0.0200],\n",
              "         [0.0400],\n",
              "         [0.0600],\n",
              "         [0.0800],\n",
              "         [0.1000],\n",
              "         [0.1200],\n",
              "         [0.1400],\n",
              "         [0.1600],\n",
              "         [0.1800]]),\n",
              " tensor([[0.3000],\n",
              "         [0.3140],\n",
              "         [0.3280],\n",
              "         [0.3420],\n",
              "         [0.3560],\n",
              "         [0.3700],\n",
              "         [0.3840],\n",
              "         [0.3980],\n",
              "         [0.4120],\n",
              "         [0.4260]]))"
            ]
          },
          "metadata": {},
          "execution_count": 2
        }
      ]
    },
    {
      "cell_type": "code",
      "source": [
        "train_split= int(0.8*len(X))\n",
        "xtrain,ytrain=X[:train_split],Y[:train_split]\n",
        "xtest,ytest=X[train_split:],Y[train_split:]"
      ],
      "metadata": {
        "id": "6VLs9zav4gF7"
      },
      "execution_count": null,
      "outputs": []
    },
    {
      "cell_type": "code",
      "source": [
        "def plot(train_data=xtrain,train_label=ytrain,testd=xtest,tl=ytest,predictions=None):\n",
        "  plt.figure(figsize=(10,7))\n",
        "  plt.scatter(train_data,train_label,c=\"b\",s=4,label=\"TrainingData\")\n",
        "  plt.scatter(testd,tl,c=\"r\",s=4,label=\"TestData\")\n",
        "  if predictions is not None:\n",
        "    plt.scatter(testd,predictions,c=\"y\",s=4,label=\"TestData\")\n",
        "  plt.legend(prop={\"size\":14});"
      ],
      "metadata": {
        "id": "7ca_qYOtQwCz"
      },
      "execution_count": null,
      "outputs": []
    },
    {
      "cell_type": "code",
      "source": [
        "plot();"
      ],
      "metadata": {
        "colab": {
          "base_uri": "https://localhost:8080/",
          "height": 471
        },
        "id": "wWPk51CcS4pT",
        "outputId": "57a585d1-1d26-4d44-84d5-cf5c1ade981a"
      },
      "execution_count": null,
      "outputs": [
        {
          "output_type": "display_data",
          "data": {
            "text/plain": [
              "<Figure size 1000x700 with 1 Axes>"
            ],
            "image/png": "[encoded data removed]"
          },
          "metadata": {}
        }
      ]
    },
    {
      "cell_type": "code",
      "source": [
        "class re(nn.Module):\n",
        "  def __init__(self):\n",
        "    super().__init__()\n",
        "    self.weights=nn.Parameter(torch.rand(1,requires_grad=True,dtype=torch.float))\n",
        "    self.bias=nn.Parameter(torch.rand(1,requires_grad=True,dtype=torch.float))\n",
        "  def forward(self,x:torch.Tensor)->torch.Tensor:\n",
        "      return self.weights*x+self.bias"
      ],
      "metadata": {
        "id": "XBoJ96a3UCJj"
      },
      "execution_count": null,
      "outputs": []
    },
    {
      "cell_type": "code",
      "source": [],
      "metadata": {
        "id": "IklnjQnaD8pc"
      },
      "execution_count": null,
      "outputs": []
    },
    {
      "cell_type": "code",
      "source": [
        "torch.manual_seed(42)\n",
        "mod=re()\n",
        "list(mod.parameters())"
      ],
      "metadata": {
        "id": "27jtOb6_ZgB7",
        "colab": {
          "base_uri": "https://localhost:8080/"
        },
        "outputId": "2fe421a7-c4af-4eb0-8681-2f7e113d7a00"
      },
      "execution_count": null,
      "outputs": [
        {
          "output_type": "execute_result",
          "data": {
            "text/plain": [
              "[Parameter containing:\n",
              " tensor([0.8823], requires_grad=True),\n",
              " Parameter containing:\n",
              " tensor([0.9150], requires_grad=True)]"
            ]
          },
          "metadata": {},
          "execution_count": 7
        }
      ]
    },
    {
      "cell_type": "code",
      "source": [
        "lossf=nn.L1Loss()\n",
        "optimizer=torch.optim.SGD(params=mod.parameters(),lr=0.001)"
      ],
      "metadata": {
        "id": "XY_-iHfsEygJ"
      },
      "execution_count": null,
      "outputs": []
    },
    {
      "cell_type": "code",
      "source": [
        "epochs=150\n",
        "epoch_count=[]\n",
        "loss_values=[]\n",
        "test_loss_values=[]\n",
        "for epoch in range(epochs):\n",
        "  mod.train()\n",
        "  y_pred=mod(xtrain)\n",
        "  loss=lossf(y_pred,ytrain)\n",
        "  optimizer.zero_grad()\n",
        "  loss.backward()\n",
        "  optimizer.step()\n",
        "  mod.eval()\n",
        "  with torch.inference_mode():\n",
        "    test_pred=mod(xtest)\n",
        "    test_loss=lossf(test_pred,ytest)\n",
        "    if epoch%10==0:\n",
        "      epoch_count.append(epoch)\n",
        "      loss_values.append(loss)\n",
        "      test_loss_values.append(test_loss)\n",
        "\n",
        "      print(f\"Epoch:{epoch} | Loss:{loss} | TestLoss:{test_loss}\")\n",
        "      print(mod.state_dict())"
      ],
      "metadata": {
        "colab": {
          "base_uri": "https://localhost:8080/"
        },
        "id": "lj7ssiN-9dGb",
        "outputId": "564f0af2-ec2b-416d-abe1-08fff44e4871"
      },
      "execution_count": null,
      "outputs": [
        {
          "output_type": "stream",
          "name": "stdout",
          "text": [
            "Epoch:0 | Loss:0.22525517642498016 | TestLoss:0.237044095993042\n",
            "OrderedDict([('weights', tensor([0.7259])), ('bias', tensor([0.5140]))])\n",
            "Epoch:10 | Loss:0.21373434364795685 | TestLoss:0.22357328236103058\n",
            "OrderedDict([('weights', tensor([0.7220])), ('bias', tensor([0.5040]))])\n",
            "Epoch:20 | Loss:0.20221348106861115 | TestLoss:0.21010248363018036\n",
            "OrderedDict([('weights', tensor([0.7181])), ('bias', tensor([0.4940]))])\n",
            "Epoch:30 | Loss:0.19069264829158783 | TestLoss:0.19663166999816895\n",
            "OrderedDict([('weights', tensor([0.7142])), ('bias', tensor([0.4840]))])\n",
            "Epoch:40 | Loss:0.17917180061340332 | TestLoss:0.18316085636615753\n",
            "OrderedDict([('weights', tensor([0.7103])), ('bias', tensor([0.4740]))])\n",
            "Epoch:50 | Loss:0.16765096783638 | TestLoss:0.1696900576353073\n",
            "OrderedDict([('weights', tensor([0.7064])), ('bias', tensor([0.4640]))])\n",
            "Epoch:60 | Loss:0.1561301052570343 | TestLoss:0.1562192142009735\n",
            "OrderedDict([('weights', tensor([0.7025])), ('bias', tensor([0.4540]))])\n",
            "Epoch:70 | Loss:0.1446092575788498 | TestLoss:0.14274843037128448\n",
            "OrderedDict([('weights', tensor([0.6986])), ('bias', tensor([0.4440]))])\n",
            "Epoch:80 | Loss:0.13308843970298767 | TestLoss:0.12927761673927307\n",
            "OrderedDict([('weights', tensor([0.6947])), ('bias', tensor([0.4340]))])\n",
            "Epoch:90 | Loss:0.12156756967306137 | TestLoss:0.11580677330493927\n",
            "OrderedDict([('weights', tensor([0.6908])), ('bias', tensor([0.4240]))])\n",
            "Epoch:100 | Loss:0.11004672944545746 | TestLoss:0.10233600437641144\n",
            "OrderedDict([('weights', tensor([0.6869])), ('bias', tensor([0.4140]))])\n",
            "Epoch:110 | Loss:0.09852589666843414 | TestLoss:0.08886518329381943\n",
            "OrderedDict([('weights', tensor([0.6830])), ('bias', tensor([0.4040]))])\n",
            "Epoch:120 | Loss:0.08700504153966904 | TestLoss:0.07539437711238861\n",
            "OrderedDict([('weights', tensor([0.6791])), ('bias', tensor([0.3940]))])\n",
            "Epoch:130 | Loss:0.07548420131206512 | TestLoss:0.0619235523045063\n",
            "OrderedDict([('weights', tensor([0.6752])), ('bias', tensor([0.3840]))])\n",
            "Epoch:140 | Loss:0.06396336108446121 | TestLoss:0.04845272749662399\n",
            "OrderedDict([('weights', tensor([0.6713])), ('bias', tensor([0.3740]))])\n"
          ]
        }
      ]
    },
    {
      "source": [
        "plt.plot(epoch_count,[loss.detach().numpy() for loss in loss_values],label=\"TrainLoss\") # Convert list of tensors to NumPy arrays\n",
        "plt.plot(epoch_count,[loss.detach().numpy() for loss in test_loss_values],label=\"TestLoss\") # Convert list of tensors to NumPy arrays\n",
        "plt.title(\"Traing and test loss curve\")\n",
        "plt.xlabel(\"Epochs\")\n",
        "plt.ylabel(\"Loss\")\n",
        "plt.legend();"
      ],
      "cell_type": "code",
      "metadata": {
        "colab": {
          "base_uri": "https://localhost:8080/",
          "height": 472
        },
        "id": "mIb16Nk43y5b",
        "outputId": "70bb5b14-c589-4fab-810f-283db2134353"
      },
      "execution_count": null,
      "outputs": [
        {
          "output_type": "display_data",
          "data": {
            "text/plain": [
              "<Figure size 640x480 with 1 Axes>"
            ],
            "image/png": "[encoded data removed]"
          },
          "metadata": {}
        }
      ]
    },
    {
      "cell_type": "code",
      "source": [],
      "metadata": {
        "id": "sCne-vtp1lyC"
      },
      "execution_count": null,
      "outputs": []
    },
    {
      "cell_type": "code",
      "source": [
        "with torch.inference_mode():\n",
        "  y_pred_new=mod(xtest)"
      ],
      "metadata": {
        "id": "NwqqlW2p01XX"
      },
      "execution_count": null,
      "outputs": []
    },
    {
      "cell_type": "code",
      "source": [
        "plot(predictions=y_pred_new)"
      ],
      "metadata": {
        "colab": {
          "base_uri": "https://localhost:8080/",
          "height": 471
        },
        "id": "GA9gh2A2xAIG",
        "outputId": "328e051a-5f43-442e-8b5d-396115ed89ea"
      },
      "execution_count": null,
      "outputs": [
        {
          "output_type": "display_data",
          "data": {
            "text/plain": [
              "<Figure size 1000x700 with 1 Axes>"
            ],
            "image/png": "[encoded data removed]"
          },
          "metadata": {}
        }
      ]
    },
    {
      "cell_type": "code",
      "source": [],
      "metadata": {
        "id": "KKjHmOpi5MBE"
      },
      "execution_count": null,
      "outputs": []
    },
    {
      "cell_type": "code",
      "source": [
        "mod.state_dict()\n"
      ],
      "metadata": {
        "colab": {
          "base_uri": "https://localhost:8080/"
        },
        "id": "9H-P4hK61mrX",
        "outputId": "01606fcc-92b8-41bf-b479-3946432b35b3"
      },
      "execution_count": null,
      "outputs": [
        {
          "output_type": "execute_result",
          "data": {
            "text/plain": [
              "OrderedDict([('weights', tensor([0.8433])), ('bias', tensor([0.8150]))])"
            ]
          },
          "metadata": {},
          "execution_count": 13
        }
      ]
    },
    {
      "cell_type": "code",
      "source": [
        "from pathlib import Path\n",
        "MODEL_PATH=Path(\"models\")\n",
        "MODEL_PATH.mkdir(parents=True,exist_ok=True)\n",
        "MODEL_NAME=\"model_0.pth\"\n",
        "MODEL_SAVE_PATH=MODEL_PATH/MODEL_NAME\n",
        "print(\"saving\")\n",
        "torch.save(obj=mod.state_dict(),f=MODEL_SAVE_PATH)\n"
      ],
      "metadata": {
        "colab": {
          "base_uri": "https://localhost:8080/"
        },
        "id": "l0QRHFxM8dUY",
        "outputId": "998c8f09-e35a-4950-86a7-e10c7327117f"
      },
      "execution_count": null,
      "outputs": [
        {
          "output_type": "stream",
          "name": "stdout",
          "text": [
            "saving\n"
          ]
        }
      ]
    },
    {
      "cell_type": "code",
      "source": [
        "!ls -l models"
      ],
      "metadata": {
        "colab": {
          "base_uri": "https://localhost:8080/"
        },
        "id": "-s5iv09O96fG",
        "outputId": "a05252d9-b421-4c60-e3b7-a246d5bd43e9"
      },
      "execution_count": null,
      "outputs": [
        {
          "output_type": "stream",
          "name": "stdout",
          "text": [
            "total 4\n",
            "-rw-r--r-- 1 root root 1496 Sep 18 11:48 model_0.pth\n"
          ]
        }
      ]
    },
    {
      "cell_type": "code",
      "source": [
        "loaded_model=re()\n",
        "loaded_model.load_state_dict(torch.load(f=MODEL_SAVE_PATH))\n",
        "loaded_model.state_dict()\n"
      ],
      "metadata": {
        "colab": {
          "base_uri": "https://localhost:8080/"
        },
        "id": "uELEkqa9AVa4",
        "outputId": "c54f7997-a072-40ed-ec41-c68d8b5ccf5b"
      },
      "execution_count": null,
      "outputs": [
        {
          "output_type": "stream",
          "name": "stderr",
          "text": [
            "<ipython-input-28-d947d334f28d>:2: FutureWarning: You are using `torch.load` with `weights_only=False` (the current default value), which uses the default pickle module implicitly. It is possible to construct malicious pickle data which will execute arbitrary code during unpickling (See https://github.com/pytorch/pytorch/blob/main/SECURITY.md#untrusted-models for more details). In a future release, the default value for `weights_only` will be flipped to `True`. This limits the functions that could be executed during unpickling. Arbitrary objects will no longer be allowed to be loaded via this mode unless they are explicitly allowlisted by the user via `torch.serialization.add_safe_globals`. We recommend you start setting `weights_only=True` for any use case where you don't have full control of the loaded file. Please open an issue on GitHub for any issues related to this experimental feature.\n",
            "  loaded_model.load_state_dict(torch.load(f=MODEL_SAVE_PATH))\n"
          ]
        },
        {
          "output_type": "execute_result",
          "data": {
            "text/plain": [
              "OrderedDict([('weights', tensor([0.6678])), ('bias', tensor([0.3650]))])"
            ]
          },
          "metadata": {},
          "execution_count": 28
        }
      ]
    },
    {
      "cell_type": "code",
      "source": [
        "loaded_model.eval()\n",
        "with torch.inference_mode():\n",
        "  y_loaded=loaded_model(xtest)"
      ],
      "metadata": {
        "id": "pvwvYWHhBfyn"
      },
      "execution_count": null,
      "outputs": []
    },
    {
      "cell_type": "code",
      "source": [
        "mod.eval()\n",
        "with torch.inference_mode():\n",
        "  y_t=mod(xtest)"
      ],
      "metadata": {
        "id": "VIZA8mvdBxpa"
      },
      "execution_count": null,
      "outputs": []
    },
    {
      "cell_type": "code",
      "source": [
        "y_loaded==y_t\n"
      ],
      "metadata": {
        "colab": {
          "base_uri": "https://localhost:8080/"
        },
        "id": "mmqn2FAXCE6N",
        "outputId": "8649eb62-aa01-4bfc-c8f9-281a89fc7bb0"
      },
      "execution_count": null,
      "outputs": [
        {
          "output_type": "execute_result",
          "data": {
            "text/plain": [
              "tensor([[True],\n",
              "        [True],\n",
              "        [True],\n",
              "        [True],\n",
              "        [True],\n",
              "        [True],\n",
              "        [True],\n",
              "        [True],\n",
              "        [True],\n",
              "        [True]])"
            ]
          },
          "metadata": {},
          "execution_count": 31
        }
      ]
    }
  ]
}